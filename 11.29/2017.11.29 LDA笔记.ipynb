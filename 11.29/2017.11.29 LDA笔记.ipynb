{
 "cells": [
  {
   "cell_type": "markdown",
   "metadata": {},
   "source": [
    "# 1.LDA笔记\n",
    "### LDA的全称是Linear Discriminant Analysis（线性判别分析），是一种supervised learning。LDA的原理是，将带上标签的数据（点），通过投影的方法，投影到维度更低的空间中，使得投影后的点，会形成按类别区分，一簇一簇的情况，相同类别的点，将会在投影后的空间中更接近。要说明白LDA，首先得弄明白线性分类器(Linear Classifier)：因为LDA是一种线性分类器。对于K-分类的一个分类问题，会有K个线性函数：$y_k(x)={\\omega}^T_k+{\\omega}_{k0}$ 。上式实际上就是一种投影，是将一个高维的点投影到一条高维的直线上，LDA最求的目标是，给出一个标注了类别的数据集，投影到了一条直线之后，能够使得点尽量的按类别区分开，当k=2即二分类问题的时候，如下图所示：![](https://github.com/xx674967/githubdesktop/blob/12/pic/11.29/233.png?raw=true)图中红色的方形的点为0类的原始点、蓝色的方形点为1类的原始点，经过原点的那条线就是投影的直线，从图上可以清楚的看到，红色的点和蓝色的点被原点明显的分开了。\n",
    "### 假设用来区分二分类的直线（投影函数)为：$$y={\\omega}^TX$$ LDA分类的一个目标是使得不同类别之间的距离越远越好，同一类别之中的距离越近越好，所以我们需要定义几个关键的值。类别i的原始中心点为：（Di表示属于类别i的点)$$m_i=\\frac 1{n_i}\\sum_{x{\\in}D_i}x$$类别i投影后的中心点为：![](https://github.com/xx674967/githubdesktop/blob/12/pic/11.29/1.png?raw=true)衡量类别i投影后，类别点之间的分散程度（方差）为：![](https://github.com/xx674967/githubdesktop/blob/12/pic/11.29/2.png?raw=true)最终我们可以得到一个下面的公式，表示LDA投影到w后的损失函数：![](https://github.com/xx674967/githubdesktop/blob/12/pic/11.29/3.png?raw=true)\n",
    "### 我们分类的目标是，使得类别内的点距离越近越好（集中），类别间的点越远越好。分母表示每一个类别内的方差之和，方差越大表示一个类别内的点越分散，分子为两个类别各自的中心点的距离的平方，我们最大化J(w)就可以求出最优的w了。想要求出最优的w，可以使用拉格朗日乘子法，但是现在我们得到的J(w)里面，w是不能被单独提出来的，我们就得想办法将w单独提出来。\n",
    "### 我们定义一个投影前的各类别分散程度的矩阵，这个矩阵看起来有一点麻烦，其实意思是，如果某一个分类的输入点集Di里面的点距离这个分类的中心店mi越近，则Si里面元素的值就越小，如果分类的点都紧紧地围绕着mi，则Si里面的元素值越更接近0.![](https://github.com/xx674967/githubdesktop/blob/12/pic/11.29/4.png?raw=true)带入Si，将J(w)分母化为：![](https://github.com/xx674967/githubdesktop/blob/12/pic/11.29/5.png?raw=true)同样的将J(w)分子化为：![](https://github.com/xx674967/githubdesktop/blob/12/pic/11.29/6.png?raw=true)这样损失函数可以化成下面的形式：![](https://github.com/xx674967/githubdesktop/blob/12/pic/11.29/7.png?raw=true)这样就可以使用拉格朗日乘子发求解，注意如果分子，分母可以取任意值，那么将会有无穷解，因此把分母长度限制为1，作为拉格朗日乘子法的限制条件：![](https://github.com/xx674967/githubdesktop/blob/12/pic/11.29/8.png?raw=true)至此问题就转换成一个求特征值的问题。\n",
    "\n",
    "\n",
    "\n"
   ]
  },
  {
   "cell_type": "code",
   "execution_count": null,
   "metadata": {
    "collapsed": true
   },
   "outputs": [],
   "source": []
  }
 ],
 "metadata": {
  "anaconda-cloud": {},
  "kernelspec": {
   "display_name": "Python [default]",
   "language": "python",
   "name": "python3"
  },
  "language_info": {
   "codemirror_mode": {
    "name": "ipython",
    "version": 3
   },
   "file_extension": ".py",
   "mimetype": "text/x-python",
   "name": "python",
   "nbconvert_exporter": "python",
   "pygments_lexer": "ipython3",
   "version": "3.5.2"
  }
 },
 "nbformat": 4,
 "nbformat_minor": 1
}
